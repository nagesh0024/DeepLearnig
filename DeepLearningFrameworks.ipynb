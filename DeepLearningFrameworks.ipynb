{
  "nbformat": 4,
  "nbformat_minor": 0,
  "metadata": {
    "colab": {
      "provenance": [],
      "authorship_tag": "ABX9TyOg9G0Bf1QeAiUvJ9ihb402",
      "include_colab_link": true
    },
    "kernelspec": {
      "name": "python3",
      "display_name": "Python 3"
    },
    "language_info": {
      "name": "python"
    }
  },
  "cells": [
    {
      "cell_type": "markdown",
      "metadata": {
        "id": "view-in-github",
        "colab_type": "text"
      },
      "source": [
        "<a href=\"https://colab.research.google.com/github/nagesh0024/DeepLearnig/blob/main/DeepLearningFrameworks.ipynb\" target=\"_parent\"><img src=\"https://colab.research.google.com/assets/colab-badge.svg\" alt=\"Open In Colab\"/></a>"
      ]
    },
    {
      "cell_type": "markdown",
      "source": [
        "#Deep Learning Frameworks"
      ],
      "metadata": {
        "id": "yYfOH083Mczi"
      }
    },
    {
      "cell_type": "markdown",
      "source": [
        "#Q1. What is TensorFlow 2.0, and how is it different from TensorFlow 1.x?\n",
        "Answer:-\n",
        "###TensorFlow 2.0 vs. TensorFlow 1.x\n",
        "TensorFlow 2.0 is a deep learning framework that improves usability, efficiency, and performance over TensorFlow 1.x.\n",
        "\n",
        "Key Differences:\n",
        "\n",
        "1 Eager Execution (Default in TF 2.0)\n",
        "\n",
        "TensorFlow 1.x: Uses static computation graphs, requiring tf.Session() to execute operations.\n",
        "\n",
        "TensorFlow 2.0: Uses eager execution by default, meaning operations run immediately, making debugging easier.\n",
        "\n",
        "2 Keras Integration\n",
        "\n",
        "TensorFlow 1.x: tf.keras existed but wasn’t the main API. Users relied on tf.contrib.keras or standalone Keras.\n",
        "\n",
        "TensorFlow 2.0: tf.keras is the official high-level API for building and training models.\n",
        "\n",
        "3 Simplified API\n",
        "\n",
        "TensorFlow 1.x: Required manually defining graphs and sessions.\n",
        "\n",
        "TensorFlow 2.0: Uses tf.function() to convert eager execution into graphs automatically.\n",
        "\n",
        "4 Dataset Handling\n",
        "\n",
        "TensorFlow 1.x: Required using placeholders and feed_dict.\n",
        "\n",
        "TensorFlow 2.0: Uses the tf.data API for efficient data loading and preprocessing.\n",
        "\n",
        "5 Model Training (Simplified in TF 2.0)\n",
        "\n",
        "TensorFlow 1.x: Required manually setting up a session, defining a loss function, and writing the training loop.\n",
        "\n",
        "TensorFlow 2.0: Uses model.fit() for training, making it much simpler.\n",
        "###Why Use TensorFlow 2.0?\n",
        "\n",
        "Faster development with eager execution.\n",
        "\n",
        "Easier debugging with intuitive error tracing.\n",
        "\n",
        "Better performance using tf.function to compile graphs."
      ],
      "metadata": {
        "id": "1e1eI-a8MwO0"
      }
    },
    {
      "cell_type": "markdown",
      "source": [
        "##Q2. How do you install TensorFlow 2.0?\n",
        "Answer:-"
      ],
      "metadata": {
        "id": "f0m-S0q5N6lG"
      }
    },
    {
      "cell_type": "code",
      "source": [
        "pip install tensorflow==2.0.0"
      ],
      "metadata": {
        "id": "pYbU8yDlObqr"
      },
      "execution_count": null,
      "outputs": []
    },
    {
      "cell_type": "markdown",
      "source": [
        "##Q3. What is the primary function of the tf.function in TensorFlow 2.0?\n",
        "Answer:-\n",
        "###Primary Function of tf.function in TensorFlow 2.0\n",
        "tf.function converts a Python function into a TensorFlow computational graph, optimizing performance and execution speed."
      ],
      "metadata": {
        "id": "uBGbx7diOf_f"
      }
    },
    {
      "cell_type": "markdown",
      "source": [
        "##Q4. What is the purpose of the Model class in TensorFlow 2.0?\n",
        "Answer:-\n",
        "###Purpose of the Model Class in TensorFlow 2.0\n",
        "The tf.keras.Model class is used to define and build custom deep learning models in TensorFlow 2.0. It provides more flexibility than Sequential models by allowing complex architectures, custom training loops, and subclassing."
      ],
      "metadata": {
        "id": "MDMsAwT6O4hs"
      }
    },
    {
      "cell_type": "markdown",
      "source": [
        "##Q5. How do you create a neural network using TensorFlow 2.0?\n",
        "Answer:-\n",
        "###Creating a Neural Network in TensorFlow 2.0\n",
        "You can create a neural network in TensorFlow 2.0 using the Sequential API or by subclassing the Model class."
      ],
      "metadata": {
        "id": "_WpFrN57PHCS"
      }
    },
    {
      "cell_type": "code",
      "source": [
        "import tensorflow as tf\n",
        "from tensorflow import keras\n",
        "\n",
        "# Define the model\n",
        "model = keras.Sequential([\n",
        "    keras.layers.Dense(16, activation='relu', input_shape=(10,)),\n",
        "    keras.layers.Dense(8, activation='relu'),\n",
        "    keras.layers.Dense(1, activation='sigmoid')\n",
        "])\n",
        "\n",
        "# Compile the model\n",
        "model.compile(optimizer='adam', loss='binary_crossentropy', metrics=['accuracy'])\n",
        "\n",
        "# Model summary\n",
        "model.summary()"
      ],
      "metadata": {
        "id": "t_4WODYbPbhh"
      },
      "execution_count": null,
      "outputs": []
    },
    {
      "cell_type": "markdown",
      "source": [
        "##Q6. What is the importance of Tensor Space in TensorFlow?\n",
        "Answer:-\n",
        "###Importance of Tensor Space in TensorFlow\n",
        "In TensorFlow, Tensor Space refers to the multi-dimensional structure where tensors (numerical arrays) exist and operate. It is crucial because:\n",
        "\n",
        "Efficient Computation – Tensor operations are optimized for parallel processing on GPUs/TPUs.\n",
        "\n",
        "Scalability – Supports high-dimensional data like images (4D tensors) and videos (5D tensors).\n",
        "\n",
        "Flexibility – Works with any data structure (scalars, vectors, matrices, higher-dimensional tensors).\n",
        "\n",
        "Differentiability – Essential for automatic differentiation in deep learning."
      ],
      "metadata": {
        "id": "RbRuPbQ1Pjz3"
      }
    },
    {
      "cell_type": "markdown",
      "source": [
        "##Q7.  How can TensorBoard be integrated with TensorFlow 2.0?\n",
        "Answer:-\n",
        "###Integrating TensorBoard with TensorFlow 2.0\n",
        "TensorBoard is a visualization tool in TensorFlow used for monitoring training metrics, model architecture, and more."
      ],
      "metadata": {
        "id": "OskRtaiaP65_"
      }
    },
    {
      "cell_type": "code",
      "source": [
        "import tensorflow as tf\n",
        "import datetime\n",
        "\n",
        "log_dir = \"logs/fit/\" + datetime.datetime.now().strftime(\"%Y%m%d-%H%M%S\")\n",
        "tensorboard_callback = tf.keras.callbacks.TensorBoard(log_dir=log_dir, histogram_freq=1)\n",
        "\n",
        "# Define a simple model\n",
        "model = tf.keras.Sequential([\n",
        "    tf.keras.layers.Dense(16, activation='relu', input_shape=(10,)),\n",
        "    tf.keras.layers.Dense(1, activation='sigmoid')\n",
        "])\n",
        "\n",
        "# Compile the model\n",
        "model.compile(optimizer='adam', loss='binary_crossentropy', metrics=['accuracy'])\n",
        "\n",
        "# Generate dummy data\n",
        "import numpy as np\n",
        "X_train = np.random.rand(100, 10)\n",
        "y_train = np.random.randint(0, 2, size=(100,))\n",
        "\n",
        "# Train the model with TensorBoard logging\n",
        "model.fit(X_train, y_train, epochs=10, callbacks=[tensorboard_callback])\n",
        "\n",
        "tensorboard --logdir=logs/fit"
      ],
      "metadata": {
        "id": "8YW0Yfr7QL5Z"
      },
      "execution_count": null,
      "outputs": []
    },
    {
      "cell_type": "markdown",
      "source": [
        "##Q8. What is the purpose of TensorFlow Playground?\n",
        "Answer:-\n",
        "###Purpose of TensorFlow Playground\n",
        "TensorFlow Playground is an interactive web-based tool that allows users to experiment with neural networks visually."
      ],
      "metadata": {
        "id": "PrEQV8aRQcv_"
      }
    },
    {
      "cell_type": "markdown",
      "source": [
        "##Q9. What is Netron, and how is it useful for deep learning models?\n",
        "Answer:-\n",
        "###What is Netron?\n",
        "Netron is an open-source model visualization tool for deep learning models. It supports frameworks like TensorFlow, Keras, PyTorch, ONNX, and Caffe.\n",
        "\n",
        "###How is Netron Useful?\n",
        "Visualizes Model Architecture – Shows layers, connections, and tensor shapes.\n",
        "\n",
        "Debugging Tool – Helps identify incorrect layer connections or incompatible shapes.\n",
        "\n",
        "Supports Multiple Formats – Works with .pb, .h5, .onnx, .tflite, and more.\n",
        "\n",
        "Lightweight & Web-Based – Can be used locally or in a browser without installation."
      ],
      "metadata": {
        "id": "q8lSolngQqGU"
      }
    },
    {
      "cell_type": "markdown",
      "source": [
        "##Q10. What is the difference between TensorFlow and PyTorch?\n",
        "Answer:-\n",
        "###1 Ease of Use\n",
        "TensorFlow: More structured; requires defining computation graphs explicitly (improved in TensorFlow 2.0 with eager execution).\n",
        "\n",
        "PyTorch: More intuitive, Pythonic, and easier for beginners due to dynamic computation graphs.\n",
        "###2 Execution Mode\n",
        "TensorFlow: Uses both static (graph mode) and dynamic (eager execution) computation. @tf.function helps optimize graphs.\n",
        "\n",
        "PyTorch: Uses dynamic computation graphs (eager execution by default), making it more flexible for research.\n",
        "###3 Debugging\n",
        "TensorFlow: Debugging is harder due to static graphs (requires tf.function tracing).\n",
        "\n",
        "PyTorch: Easier debugging with native Python tools (pdb, print() statements).\n",
        "###4 Deployment\n",
        "TensorFlow: Stronger deployment support via TensorFlow Serving, TensorFlow Lite (TFLite), and TensorFlow.js.\n",
        "\n",
        "PyTorch: Deployment improving with TorchScript but still less mature than TensorFlow.\n",
        "###5 GPU & TPU Support\n",
        "TensorFlow: Supports GPUs and TPUs out of the box.\n",
        "\n",
        "PyTorch: Strong GPU support, but TPU support is limited compared to TensorFlow.\n",
        "###6 Community & Industry Adoption\n",
        "TensorFlow: Widely used in production and industry (Google, large enterprises).\n",
        "\n",
        "PyTorch: Preferred in research due to flexibility (used by academia and researchers)."
      ],
      "metadata": {
        "id": "4Ww-J0EPQ8Cv"
      }
    }
  ]
}